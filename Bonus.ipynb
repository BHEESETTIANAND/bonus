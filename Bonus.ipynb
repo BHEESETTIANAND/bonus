{
 "cells": [
  {
   "cell_type": "code",
   "execution_count": 1,
   "id": "2e659a78-d1c0-4555-9af9-ec6520774836",
   "metadata": {
    "tags": []
   },
   "outputs": [],
   "source": [
    "import pandas as pd\n",
    "import numpy as np\n",
    "import matplotlib.pyplot as plt\n",
    "import seaborn as sns\n",
    "from scipy.stats import poisson\n",
    "from datetime import datetime\n",
    "import warnings\n",
    "warnings.filterwarnings(\"ignore\")\n"
   ]
  },
  {
   "cell_type": "code",
   "execution_count": 2,
   "id": "89dc11f7-4ba4-4865-a2e4-fb4aaa545db0",
   "metadata": {
    "tags": []
   },
   "outputs": [],
   "source": [
    "deliveries=pd.read_csv(\"deliveries.csv\")"
   ]
  },
  {
   "cell_type": "code",
   "execution_count": 3,
   "id": "e5e02b30-8462-4ef5-a887-e36eba8a0383",
   "metadata": {
    "tags": []
   },
   "outputs": [],
   "source": [
    "prod=pd.read_csv(\"products.csv\")"
   ]
  },
  {
   "cell_type": "code",
   "execution_count": 4,
   "id": "0d90c627-7a48-450a-8ae1-64a6950dd03d",
   "metadata": {
    "tags": []
   },
   "outputs": [],
   "source": [
    "ord_items=pd.read_csv(\"order_items.csv\")"
   ]
  },
  {
   "cell_type": "code",
   "execution_count": 5,
   "id": "e51821eb-0852-4f9c-8b62-7e207f5f2fe3",
   "metadata": {
    "tags": []
   },
   "outputs": [],
   "source": [
    "orde=pd.read_csv(\"orders.csv\")"
   ]
  },
  {
   "cell_type": "code",
   "execution_count": 6,
   "id": "39763e2b-5378-42fb-9d31-eb0ab5c53291",
   "metadata": {
    "tags": []
   },
   "outputs": [],
   "source": [
    "df_half=pd.merge(deliveries,ord_items)"
   ]
  },
  {
   "cell_type": "code",
   "execution_count": 7,
   "id": "8e184a1f-23d0-42e0-a431-386f9cfe999b",
   "metadata": {
    "tags": []
   },
   "outputs": [],
   "source": [
    "df=pd.merge(df_half,orde)"
   ]
  },
  {
   "cell_type": "code",
   "execution_count": 8,
   "id": "9efdfaa3-848b-4c95-bbcd-4b7735b85026",
   "metadata": {
    "tags": []
   },
   "outputs": [],
   "source": [
    "df[\"order_placed_at\"]=pd.to_datetime(df[\"order_placed_at\"])"
   ]
  },
  {
   "cell_type": "code",
   "execution_count": 9,
   "id": "827d2eeb-9f96-4d35-a1cf-990fbcc60756",
   "metadata": {
    "tags": []
   },
   "outputs": [
    {
     "data": {
      "text/html": [
       "<div>\n",
       "<style scoped>\n",
       "    .dataframe tbody tr th:only-of-type {\n",
       "        vertical-align: middle;\n",
       "    }\n",
       "\n",
       "    .dataframe tbody tr th {\n",
       "        vertical-align: top;\n",
       "    }\n",
       "\n",
       "    .dataframe thead th {\n",
       "        text-align: right;\n",
       "    }\n",
       "</style>\n",
       "<table border=\"1\" class=\"dataframe\">\n",
       "  <thead>\n",
       "    <tr style=\"text-align: right;\">\n",
       "      <th></th>\n",
       "      <th>order_id</th>\n",
       "      <th>time_stamp</th>\n",
       "      <th>status</th>\n",
       "      <th>items_ordered</th>\n",
       "      <th>order_placed_at</th>\n",
       "    </tr>\n",
       "  </thead>\n",
       "  <tbody>\n",
       "    <tr>\n",
       "      <th>0</th>\n",
       "      <td>321230114</td>\n",
       "      <td>2020-12-11 00:01:29.000000000</td>\n",
       "      <td>Pending</td>\n",
       "      <td>['p_025', 'p_032', 'p_037']</td>\n",
       "      <td>2020-12-11 00:01:29</td>\n",
       "    </tr>\n",
       "    <tr>\n",
       "      <th>1</th>\n",
       "      <td>321230114</td>\n",
       "      <td>2020-12-11 00:06:29.000000000</td>\n",
       "      <td>Out For Delivery</td>\n",
       "      <td>['p_025', 'p_032', 'p_037']</td>\n",
       "      <td>2020-12-11 00:01:29</td>\n",
       "    </tr>\n",
       "    <tr>\n",
       "      <th>2</th>\n",
       "      <td>321230114</td>\n",
       "      <td>2020-12-11 00:19:13.299151076</td>\n",
       "      <td>Delivered</td>\n",
       "      <td>['p_025', 'p_032', 'p_037']</td>\n",
       "      <td>2020-12-11 00:01:29</td>\n",
       "    </tr>\n",
       "    <tr>\n",
       "      <th>3</th>\n",
       "      <td>321230115</td>\n",
       "      <td>2020-12-11 00:36:02.000000000</td>\n",
       "      <td>Pending</td>\n",
       "      <td>['p_017', 'p_012']</td>\n",
       "      <td>2020-12-11 00:36:02</td>\n",
       "    </tr>\n",
       "    <tr>\n",
       "      <th>4</th>\n",
       "      <td>321230115</td>\n",
       "      <td>2020-12-11 00:41:02.000000000</td>\n",
       "      <td>Out For Delivery</td>\n",
       "      <td>['p_017', 'p_012']</td>\n",
       "      <td>2020-12-11 00:36:02</td>\n",
       "    </tr>\n",
       "    <tr>\n",
       "      <th>5</th>\n",
       "      <td>321230115</td>\n",
       "      <td>2020-12-11 00:59:18.054846609</td>\n",
       "      <td>Delivered</td>\n",
       "      <td>['p_017', 'p_012']</td>\n",
       "      <td>2020-12-11 00:36:02</td>\n",
       "    </tr>\n",
       "    <tr>\n",
       "      <th>6</th>\n",
       "      <td>321230116</td>\n",
       "      <td>2020-12-11 00:55:01.000000000</td>\n",
       "      <td>Pending</td>\n",
       "      <td>['p_027', 'p_037']</td>\n",
       "      <td>2020-12-11 00:55:01</td>\n",
       "    </tr>\n",
       "    <tr>\n",
       "      <th>7</th>\n",
       "      <td>321230116</td>\n",
       "      <td>2020-12-11 01:00:01.000000000</td>\n",
       "      <td>Out For Delivery</td>\n",
       "      <td>['p_027', 'p_037']</td>\n",
       "      <td>2020-12-11 00:55:01</td>\n",
       "    </tr>\n",
       "    <tr>\n",
       "      <th>8</th>\n",
       "      <td>321230116</td>\n",
       "      <td>2020-12-11 01:13:52.153042625</td>\n",
       "      <td>Delivered</td>\n",
       "      <td>['p_027', 'p_037']</td>\n",
       "      <td>2020-12-11 00:55:01</td>\n",
       "    </tr>\n",
       "    <tr>\n",
       "      <th>9</th>\n",
       "      <td>321230117</td>\n",
       "      <td>2020-12-11 01:05:27.000000000</td>\n",
       "      <td>Pending</td>\n",
       "      <td>['p_004', 'p_029']</td>\n",
       "      <td>2020-12-11 01:05:27</td>\n",
       "    </tr>\n",
       "  </tbody>\n",
       "</table>\n",
       "</div>"
      ],
      "text/plain": [
       "    order_id                     time_stamp            status  \\\n",
       "0  321230114  2020-12-11 00:01:29.000000000           Pending   \n",
       "1  321230114  2020-12-11 00:06:29.000000000  Out For Delivery   \n",
       "2  321230114  2020-12-11 00:19:13.299151076         Delivered   \n",
       "3  321230115  2020-12-11 00:36:02.000000000           Pending   \n",
       "4  321230115  2020-12-11 00:41:02.000000000  Out For Delivery   \n",
       "5  321230115  2020-12-11 00:59:18.054846609         Delivered   \n",
       "6  321230116  2020-12-11 00:55:01.000000000           Pending   \n",
       "7  321230116  2020-12-11 01:00:01.000000000  Out For Delivery   \n",
       "8  321230116  2020-12-11 01:13:52.153042625         Delivered   \n",
       "9  321230117  2020-12-11 01:05:27.000000000           Pending   \n",
       "\n",
       "                 items_ordered     order_placed_at  \n",
       "0  ['p_025', 'p_032', 'p_037'] 2020-12-11 00:01:29  \n",
       "1  ['p_025', 'p_032', 'p_037'] 2020-12-11 00:01:29  \n",
       "2  ['p_025', 'p_032', 'p_037'] 2020-12-11 00:01:29  \n",
       "3           ['p_017', 'p_012'] 2020-12-11 00:36:02  \n",
       "4           ['p_017', 'p_012'] 2020-12-11 00:36:02  \n",
       "5           ['p_017', 'p_012'] 2020-12-11 00:36:02  \n",
       "6           ['p_027', 'p_037'] 2020-12-11 00:55:01  \n",
       "7           ['p_027', 'p_037'] 2020-12-11 00:55:01  \n",
       "8           ['p_027', 'p_037'] 2020-12-11 00:55:01  \n",
       "9           ['p_004', 'p_029'] 2020-12-11 01:05:27  "
      ]
     },
     "execution_count": 9,
     "metadata": {},
     "output_type": "execute_result"
    }
   ],
   "source": [
    "df.head(10)"
   ]
  },
  {
   "cell_type": "code",
   "execution_count": 14,
   "id": "538d1704-53fd-4c6e-8151-3aeafad3ae4f",
   "metadata": {
    "tags": []
   },
   "outputs": [],
   "source": [
    "df['delivery_time'] = df['time_stamp'] - df['order_placed_at']"
   ]
  },
  {
   "cell_type": "code",
   "execution_count": 13,
   "id": "ee0b4a79-e2d7-4b89-9e25-1f6d8deb9b43",
   "metadata": {
    "tags": []
   },
   "outputs": [
    {
     "name": "stdout",
     "output_type": "stream",
     "text": [
      "<class 'pandas.core.frame.DataFrame'>\n",
      "Int64Index: 1363008 entries, 0 to 1363007\n",
      "Data columns (total 5 columns):\n",
      " #   Column           Non-Null Count    Dtype         \n",
      "---  ------           --------------    -----         \n",
      " 0   order_id         1363008 non-null  int64         \n",
      " 1   time_stamp       1363008 non-null  datetime64[ns]\n",
      " 2   status           1363008 non-null  object        \n",
      " 3   items_ordered    1363008 non-null  object        \n",
      " 4   order_placed_at  1363008 non-null  datetime64[ns]\n",
      "dtypes: datetime64[ns](2), int64(1), object(2)\n",
      "memory usage: 62.4+ MB\n"
     ]
    }
   ],
   "source": [
    "df.info()"
   ]
  },
  {
   "cell_type": "code",
   "execution_count": 12,
   "id": "7efa1ba2-38a6-40e7-88ab-4b023f270cc7",
   "metadata": {
    "tags": []
   },
   "outputs": [],
   "source": [
    "df[\"time_stamp\"]=pd.to_datetime(df[\"time_stamp\"])"
   ]
  },
  {
   "cell_type": "code",
   "execution_count": 15,
   "id": "383f8b33-db3b-4af9-814f-3d824abc0c7e",
   "metadata": {
    "tags": []
   },
   "outputs": [
    {
     "data": {
      "text/html": [
       "<div>\n",
       "<style scoped>\n",
       "    .dataframe tbody tr th:only-of-type {\n",
       "        vertical-align: middle;\n",
       "    }\n",
       "\n",
       "    .dataframe tbody tr th {\n",
       "        vertical-align: top;\n",
       "    }\n",
       "\n",
       "    .dataframe thead th {\n",
       "        text-align: right;\n",
       "    }\n",
       "</style>\n",
       "<table border=\"1\" class=\"dataframe\">\n",
       "  <thead>\n",
       "    <tr style=\"text-align: right;\">\n",
       "      <th></th>\n",
       "      <th>order_id</th>\n",
       "      <th>time_stamp</th>\n",
       "      <th>status</th>\n",
       "      <th>items_ordered</th>\n",
       "      <th>order_placed_at</th>\n",
       "      <th>delivery_time</th>\n",
       "    </tr>\n",
       "  </thead>\n",
       "  <tbody>\n",
       "    <tr>\n",
       "      <th>0</th>\n",
       "      <td>321230114</td>\n",
       "      <td>2020-12-11 00:01:29.000000000</td>\n",
       "      <td>Pending</td>\n",
       "      <td>['p_025', 'p_032', 'p_037']</td>\n",
       "      <td>2020-12-11 00:01:29</td>\n",
       "      <td>0 days 00:00:00</td>\n",
       "    </tr>\n",
       "    <tr>\n",
       "      <th>1</th>\n",
       "      <td>321230114</td>\n",
       "      <td>2020-12-11 00:06:29.000000000</td>\n",
       "      <td>Out For Delivery</td>\n",
       "      <td>['p_025', 'p_032', 'p_037']</td>\n",
       "      <td>2020-12-11 00:01:29</td>\n",
       "      <td>0 days 00:05:00</td>\n",
       "    </tr>\n",
       "    <tr>\n",
       "      <th>2</th>\n",
       "      <td>321230114</td>\n",
       "      <td>2020-12-11 00:19:13.299151076</td>\n",
       "      <td>Delivered</td>\n",
       "      <td>['p_025', 'p_032', 'p_037']</td>\n",
       "      <td>2020-12-11 00:01:29</td>\n",
       "      <td>0 days 00:17:44.299151076</td>\n",
       "    </tr>\n",
       "    <tr>\n",
       "      <th>3</th>\n",
       "      <td>321230115</td>\n",
       "      <td>2020-12-11 00:36:02.000000000</td>\n",
       "      <td>Pending</td>\n",
       "      <td>['p_017', 'p_012']</td>\n",
       "      <td>2020-12-11 00:36:02</td>\n",
       "      <td>0 days 00:00:00</td>\n",
       "    </tr>\n",
       "    <tr>\n",
       "      <th>4</th>\n",
       "      <td>321230115</td>\n",
       "      <td>2020-12-11 00:41:02.000000000</td>\n",
       "      <td>Out For Delivery</td>\n",
       "      <td>['p_017', 'p_012']</td>\n",
       "      <td>2020-12-11 00:36:02</td>\n",
       "      <td>0 days 00:05:00</td>\n",
       "    </tr>\n",
       "  </tbody>\n",
       "</table>\n",
       "</div>"
      ],
      "text/plain": [
       "    order_id                    time_stamp            status  \\\n",
       "0  321230114 2020-12-11 00:01:29.000000000           Pending   \n",
       "1  321230114 2020-12-11 00:06:29.000000000  Out For Delivery   \n",
       "2  321230114 2020-12-11 00:19:13.299151076         Delivered   \n",
       "3  321230115 2020-12-11 00:36:02.000000000           Pending   \n",
       "4  321230115 2020-12-11 00:41:02.000000000  Out For Delivery   \n",
       "\n",
       "                 items_ordered     order_placed_at             delivery_time  \n",
       "0  ['p_025', 'p_032', 'p_037'] 2020-12-11 00:01:29           0 days 00:00:00  \n",
       "1  ['p_025', 'p_032', 'p_037'] 2020-12-11 00:01:29           0 days 00:05:00  \n",
       "2  ['p_025', 'p_032', 'p_037'] 2020-12-11 00:01:29 0 days 00:17:44.299151076  \n",
       "3           ['p_017', 'p_012'] 2020-12-11 00:36:02           0 days 00:00:00  \n",
       "4           ['p_017', 'p_012'] 2020-12-11 00:36:02           0 days 00:05:00  "
      ]
     },
     "execution_count": 15,
     "metadata": {},
     "output_type": "execute_result"
    }
   ],
   "source": [
    "df.head(5)"
   ]
  },
  {
   "cell_type": "code",
   "execution_count": 17,
   "id": "b3434168-48a2-4210-a0e5-89769c0828a1",
   "metadata": {
    "tags": []
   },
   "outputs": [
    {
     "data": {
      "image/png": "[encoded data removed]",
      "text/plain": [
       "<Figure size 1000x600 with 1 Axes>"
      ]
     },
     "metadata": {},
     "output_type": "display_data"
    }
   ],
   "source": [
    "df['time_stamp'] = pd.to_datetime(df['time_stamp'])\n",
    "df['hour'] = df['time_stamp'].dt.hour\n",
    "order_counts = df['hour'].value_counts().sort_index()\n",
    "mu = order_counts.mean() \n",
    "poisson_dist = poisson(mu)\n",
    "plt.figure(figsize=(10, 6))\n",
    "plt.bar(order_counts.index, order_counts.values, label='Observed Order Counts')\n",
    "plt.plot(order_counts.index, poisson_dist.pmf(order_counts.index), 'ro-', label='Poisson Distribution')\n",
    "plt.xlabel('Hour of the Day')\n",
    "plt.ylabel('Number of Orders')\n",
    "plt.title('Observed Order Counts vs. Fitted Poisson Distribution')\n",
    "plt.legend()\n",
    "plt.grid(True)\n",
    "plt.show()\n",
    "mu = order_counts.mean()  \n",
    "poisson_dist = poisson(mu)\n"
   ]
  },
  {
   "cell_type": "markdown",
   "id": "5aed3196-584e-43a4-a670-5a85f97305f4",
   "metadata": {},
   "source": [
    "## Which distribution can be used to model the number of orders incoming each hour? If we can somehow model it, which problem for owner of Pizza Store can be solved?"
   ]
  },
  {
   "cell_type": "markdown",
   "id": "d2f1a112-1ace-4380-b124-d84cb4163916",
   "metadata": {},
   "source": [
    "### 1.Possion Distribution can be used to model the number of orders incoming each hour"
   ]
  },
  {
   "cell_type": "markdown",
   "id": "af179f90-5035-4296-bdde-7931540484c6",
   "metadata": {},
   "source": [
    "### 2.Once we model the Possion distribution by using it we can know the number of possible orders incoming each hour"
   ]
  },
  {
   "cell_type": "markdown",
   "id": "454a5957-4287-405d-ac74-69756d452439",
   "metadata": {},
   "source": [
    "### 3.By using the information of number of possible incoming orders each hour the owner of Pizza store can arrange or hire the workers based on the incoming orders"
   ]
  },
  {
   "cell_type": "markdown",
   "id": "e692777b-2c71-4e57-b824-7ff203c9e024",
   "metadata": {},
   "source": [
    "### 4.If suppose let us assume that in Pizza store if we are got to known that in coming next five hours we are going get high no.of. incoming orders\n",
    "###   then owner can hire more delivery persons than the regular persons so that the orders can be delivered as soon as possible"
   ]
  },
  {
   "cell_type": "markdown",
   "id": "92bb1057-67f3-45ef-b439-c02d797938ae",
   "metadata": {},
   "source": [
    "### 5.By which all the orders can be delivered within time so that they are not need to pay refund for pizza"
   ]
  },
  {
   "cell_type": "markdown",
   "id": "8ad22488-0ec6-411b-a1c6-e54f31086267",
   "metadata": {},
   "source": [
    "### 6.By using possion dist if we know that for next few hours the incoming orders are going to be very less then the owner can hire only few delivery persons"
   ]
  },
  {
   "cell_type": "markdown",
   "id": "ee8331d4-609b-418e-b567-1f8ca115ba56",
   "metadata": {},
   "source": [
    "## So by using Possion Distribution the no.of. delivery persons to be hired for that particular hour so that pizza's can be delivered on time.\n",
    "## and he can also reduce the no.of. delivery persons during low orders\n",
    "\n"
   ]
  },
  {
   "cell_type": "markdown",
   "id": "6b2dc6fc-3c50-4af1-bb1a-4346483acd6f",
   "metadata": {},
   "source": [
    "## So that the owner can gain profits"
   ]
  },
  {
   "cell_type": "markdown",
   "id": "a2043df8-a956-4806-a499-0eed05aaeead",
   "metadata": {},
   "source": [
    "### So by using the possion dist the owner can decide the no.of. delivery persons to be hired"
   ]
  },
  {
   "cell_type": "code",
   "execution_count": null,
   "id": "6f69d5d6-4b6c-403e-b5e2-2925c7457f51",
   "metadata": {},
   "outputs": [],
   "source": []
  }
 ],
 "metadata": {
  "kernelspec": {
   "display_name": "Python 3 (ipykernel)",
   "language": "python",
   "name": "python3"
  },
  "language_info": {
   "codemirror_mode": {
    "name": "ipython",
    "version": 3
   },
   "file_extension": ".py",
   "mimetype": "text/x-python",
   "name": "python",
   "nbconvert_exporter": "python",
   "pygments_lexer": "ipython3",
   "version": "3.11.4"
  }
 },
 "nbformat": 4,
 "nbformat_minor": 5
}
